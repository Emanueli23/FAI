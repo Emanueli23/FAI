{
 "cells": [
  {
   "cell_type": "markdown",
   "id": "da8ed91d-21c3-4600-9d17-d4ad6bb9f0d4",
   "metadata": {
    "tags": []
   },
   "source": [
    "# Data Science Tools and Ecosystem"
   ]
  },
  {
   "cell_type": "markdown",
   "id": "b7da6a96-fb7b-477d-988f-e2c8e19cf947",
   "metadata": {},
   "source": [
    "**In this notebook, Data Science Tools and Ecosystem are summarized.**"
   ]
  },
  {
   "cell_type": "markdown",
   "id": "8b1782d4-4f8e-4631-b623-be1ee957451b",
   "metadata": {},
   "source": [
    "**Objectives:**\n",
    "- Creating your first Jupyter Notebook\n",
    "- Using the tools explained in the course\n",
    "- Working with JupyterLabs\n",
    "- Practising the commands on JupyterNetwork\n",
    "- Getting started with programming"
   ]
  },
  {
   "cell_type": "markdown",
   "id": "e9fe9ee4-b0e4-4edd-b77c-2b616cb7068e",
   "metadata": {},
   "source": [
    "__Some of the popular languages that Data Scientists use are:__\n",
    "1. R Programming\n",
    "2. SQL For Data Bases\n",
    "3. Python\n"
   ]
  },
  {
   "cell_type": "markdown",
   "id": "e285c637-74d9-403a-89f2-69d1b321152a",
   "metadata": {
    "tags": []
   },
   "source": [
    "__Some of the commonly used libraries used by Data Scientists include:__\n",
    "1. Pandas\n",
    "2. Seaborn\n",
    "3. Scikit-learn"
   ]
  },
  {
   "cell_type": "markdown",
   "id": "4e0a04cf-0654-4da9-9b48-8c5a04c9429c",
   "metadata": {},
   "source": [
    "| __Data Science Tools__ | \n",
    "| -------------| \n",
    "| MySQl |\n",
    "| PostgreSQL | \n",
    "| MongoDB | "
   ]
  },
  {
   "cell_type": "markdown",
   "id": "398c7352-0594-4d37-a10f-01c1786cd574",
   "metadata": {},
   "source": [
    "### Below are a few examples of evaluating arithmetic expressions in Python\n"
   ]
  },
  {
   "cell_type": "code",
   "execution_count": 11,
   "id": "83a1c3ac-4122-41f3-8281-134dd78a8136",
   "metadata": {
    "tags": []
   },
   "outputs": [
    {
     "data": {
      "text/plain": [
       "17"
      ]
     },
     "execution_count": 11,
     "metadata": {},
     "output_type": "execute_result"
    }
   ],
   "source": [
    "# This a simple arithmetic expression to mutiply then add integers\n",
    "(3*4)+5"
   ]
  },
  {
   "cell_type": "code",
   "execution_count": 12,
   "id": "bb14949a-ba6c-4e07-b402-4d3cf3d76600",
   "metadata": {
    "tags": []
   },
   "outputs": [
    {
     "data": {
      "text/plain": [
       "3.3333333333333335"
      ]
     },
     "execution_count": 12,
     "metadata": {},
     "output_type": "execute_result"
    }
   ],
   "source": [
    "# This will convert 200 minutes to hours by diving by 60\n",
    "200/60"
   ]
  },
  {
   "cell_type": "markdown",
   "id": "53834f09-80fd-4d6e-af7f-ac79111176f9",
   "metadata": {},
   "source": [
    "### Author: \n",
    "__JONATHAN EMANUEL MARTINEZ HERNANDEZ__"
   ]
  },
  {
   "cell_type": "code",
   "execution_count": null,
   "id": "8ddcf770-a653-4ef6-9249-694920765313",
   "metadata": {},
   "outputs": [],
   "source": []
  }
 ],
 "metadata": {
  "kernelspec": {
   "display_name": "Python",
   "language": "python",
   "name": "conda-env-python-py"
  },
  "language_info": {
   "codemirror_mode": {
    "name": "ipython",
    "version": 3
   },
   "file_extension": ".py",
   "mimetype": "text/x-python",
   "name": "python",
   "nbconvert_exporter": "python",
   "pygments_lexer": "ipython3",
   "version": "3.7.12"
  }
 },
 "nbformat": 4,
 "nbformat_minor": 5
}
